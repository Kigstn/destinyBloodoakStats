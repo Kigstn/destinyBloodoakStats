{
 "nbformat": 4,
 "nbformat_minor": 2,
 "metadata": {
  "language_info": {
   "name": "python",
   "codemirror_mode": {
    "name": "ipython",
    "version": 3
   },
   "version": "3.7.4-final"
  },
  "orig_nbformat": 2,
  "file_extension": ".py",
  "mimetype": "text/x-python",
  "name": "python",
  "npconvert_exporter": "python",
  "pygments_lexer": "ipython3",
  "version": 3,
  "kernelspec": {
   "name": "python37464bitdestinybloodoakstatsvirtualenv48164bb18269443b9ec51cfec9c39f92",
   "display_name": "Python 3.7.4 64-bit ('destinyBloodoakStats': virtualenv)"
  }
 },
 "cells": [
  {
   "cell_type": "code",
   "execution_count": 2,
   "metadata": {},
   "outputs": [],
   "source": [
    "import sqlite3\n",
    "con = sqlite3.connect('userdb.sqlite3')"
   ]
  },
  {
   "cell_type": "code",
   "execution_count": 3,
   "metadata": {},
   "outputs": [],
   "source": [
    "cur = con.cursor()"
   ]
  },
  {
   "cell_type": "code",
   "execution_count": null,
   "metadata": {},
   "outputs": [],
   "source": [
    "cur.execute('''\n",
    "    CREATE TABLE guardianCharacters(\n",
    "        destinyID INTEGER UNIQUE,\n",
    "        characterID INTEGER UNIQUE,\n",
    "        systemID INTEGER DEFAULT 3\n",
    "    )\n",
    "''')"
   ]
  },
  {
   "cell_type": "code",
   "execution_count": null,
   "metadata": {},
   "outputs": [],
   "source": [
    "cur.execute('''\n",
    "    CREATE TABLE activities(\n",
    "        instanceID INTEGER UNIQUE,\n",
    "        activityHash INTEGER,\n",
    "        timePlayedSeconds INTEGER,\n",
    "        period TIMESTAMP,\n",
    "        --completed BOOLEAN,\n",
    "        --completionReason INTEGER,\n",
    "    )\n",
    "''')"
   ]
  },
  {
   "cell_type": "code",
   "execution_count": null,
   "metadata": {},
   "outputs": [],
   "source": [
    "cur.execute('''\n",
    "    CREATE TABLE instancePlayerPerformance(\n",
    "        instanceID INTEGER,\n",
    "        playerID INTEGER,\n",
    "        characterID INTEGER,\n",
    "        lightlevel INTEGER,\n",
    "        displayname TEXT,\n",
    "        deaths INTEGER,\n",
    "        opponentsDefeated INTEGER,\n",
    "    )\n",
    "''')"
   ]
  },
  {
   "cell_type": "code",
   "execution_count": null,
   "metadata": {},
   "outputs": [],
   "source": [
    "#   discordGuardiansToken     (discordSnowflake, destinyID, signupDate, serverID, token, refresh_token) \n",
    "#   table messagedb                 (msg, userid, channelid, msgid, msgdate)\n",
    "#   table markovpairs               (word1, word2)"
   ]
  }
 ]
}