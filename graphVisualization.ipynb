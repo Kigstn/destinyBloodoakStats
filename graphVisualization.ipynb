{
 "nbformat": 4,
 "nbformat_minor": 2,
 "metadata": {
  "language_info": {
   "name": "python",
   "codemirror_mode": {
    "name": "ipython",
    "version": 3
   },
   "version": "3.7.4-final"
  },
  "orig_nbformat": 2,
  "file_extension": ".py",
  "mimetype": "text/x-python",
  "name": "python",
  "npconvert_exporter": "python",
  "pygments_lexer": "ipython3",
  "version": 3,
  "kernelspec": {
   "name": "python37464bitf86794c01ae54ad6b7b9e2ea11d964af",
   "display_name": "Python 3.7.4 64-bit"
  }
 },
 "cells": [
  {
   "cell_type": "code",
   "execution_count": 2,
   "metadata": {},
   "outputs": [],
   "source": [
    "import pandas as pd\n",
    "import igraph"
   ]
  },
  {
   "cell_type": "code",
   "execution_count": 3,
   "metadata": {},
   "outputs": [],
   "source": [
    "edges = pd.read_pickle(\"raiddata/edges.pickle\")"
   ]
  },
  {
   "cell_type": "code",
   "execution_count": 4,
   "metadata": {},
   "outputs": [
    {
     "data": {
      "text/html": "<div>\n<style scoped>\n    .dataframe tbody tr th:only-of-type {\n        vertical-align: middle;\n    }\n\n    .dataframe tbody tr th {\n        vertical-align: top;\n    }\n\n    .dataframe thead th {\n        text-align: right;\n    }\n</style>\n<table border=\"1\" class=\"dataframe\">\n  <thead>\n    <tr style=\"text-align: right;\">\n      <th></th>\n      <th>from</th>\n      <th>to</th>\n      <th>weight</th>\n    </tr>\n  </thead>\n  <tbody>\n    <tr>\n      <th>535</th>\n      <td>4611686018468695677</td>\n      <td>4611686018484825875</td>\n      <td>151</td>\n    </tr>\n    <tr>\n      <th>471</th>\n      <td>4611686018468695677</td>\n      <td>4611686018483329418</td>\n      <td>82</td>\n    </tr>\n    <tr>\n      <th>84</th>\n      <td>4611686018468695677</td>\n      <td>4611686018467331495</td>\n      <td>60</td>\n    </tr>\n    <tr>\n      <th>619</th>\n      <td>4611686018468695677</td>\n      <td>4611686018487448761</td>\n      <td>42</td>\n    </tr>\n    <tr>\n      <th>118</th>\n      <td>4611686018468695677</td>\n      <td>4611686018467538785</td>\n      <td>35</td>\n    </tr>\n    <tr>\n      <th>...</th>\n      <td>...</td>\n      <td>...</td>\n      <td>...</td>\n    </tr>\n    <tr>\n      <th>67</th>\n      <td>4611686018489416381</td>\n      <td>4611686018474363479</td>\n      <td>1</td>\n    </tr>\n    <tr>\n      <th>68</th>\n      <td>4611686018489416381</td>\n      <td>4611686018474925281</td>\n      <td>1</td>\n    </tr>\n    <tr>\n      <th>69</th>\n      <td>4611686018489416381</td>\n      <td>4611686018475123059</td>\n      <td>1</td>\n    </tr>\n    <tr>\n      <th>70</th>\n      <td>4611686018489416381</td>\n      <td>4611686018475212786</td>\n      <td>1</td>\n    </tr>\n    <tr>\n      <th>189</th>\n      <td>4611686018489416381</td>\n      <td>4611686018496005145</td>\n      <td>1</td>\n    </tr>\n  </tbody>\n</table>\n<p>69742 rows × 3 columns</p>\n</div>",
      "text/plain": "                    from                   to weight\n535  4611686018468695677  4611686018484825875    151\n471  4611686018468695677  4611686018483329418     82\n84   4611686018468695677  4611686018467331495     60\n619  4611686018468695677  4611686018487448761     42\n118  4611686018468695677  4611686018467538785     35\n..                   ...                  ...    ...\n67   4611686018489416381  4611686018474363479      1\n68   4611686018489416381  4611686018474925281      1\n69   4611686018489416381  4611686018475123059      1\n70   4611686018489416381  4611686018475212786      1\n189  4611686018489416381  4611686018496005145      1\n\n[69742 rows x 3 columns]"
     },
     "execution_count": 4,
     "metadata": {},
     "output_type": "execute_result"
    }
   ],
   "source": [
    "edges"
   ]
  },
  {
   "cell_type": "code",
   "execution_count": 5,
   "metadata": {},
   "outputs": [],
   "source": [
    "edges = edges[edges['from'].astype(str) > edges['to']]"
   ]
  },
  {
   "cell_type": "code",
   "execution_count": 6,
   "metadata": {},
   "outputs": [
    {
     "data": {
      "text/html": "<div>\n<style scoped>\n    .dataframe tbody tr th:only-of-type {\n        vertical-align: middle;\n    }\n\n    .dataframe tbody tr th {\n        vertical-align: top;\n    }\n\n    .dataframe thead th {\n        text-align: right;\n    }\n</style>\n<table border=\"1\" class=\"dataframe\">\n  <thead>\n    <tr style=\"text-align: right;\">\n      <th></th>\n      <th>from</th>\n      <th>to</th>\n      <th>weight</th>\n    </tr>\n  </thead>\n  <tbody>\n    <tr>\n      <th>84</th>\n      <td>4611686018468695677</td>\n      <td>4611686018467331495</td>\n      <td>60</td>\n    </tr>\n    <tr>\n      <th>118</th>\n      <td>4611686018468695677</td>\n      <td>4611686018467538785</td>\n      <td>35</td>\n    </tr>\n    <tr>\n      <th>119</th>\n      <td>4611686018468695677</td>\n      <td>4611686018467544385</td>\n      <td>30</td>\n    </tr>\n    <tr>\n      <th>146</th>\n      <td>4611686018468695677</td>\n      <td>4611686018467727325</td>\n      <td>30</td>\n    </tr>\n    <tr>\n      <th>35</th>\n      <td>4611686018468695677</td>\n      <td>4611686018451177627</td>\n      <td>27</td>\n    </tr>\n    <tr>\n      <th>...</th>\n      <td>...</td>\n      <td>...</td>\n      <td>...</td>\n    </tr>\n    <tr>\n      <th>65</th>\n      <td>4611686018489416381</td>\n      <td>4611686018471940439</td>\n      <td>1</td>\n    </tr>\n    <tr>\n      <th>67</th>\n      <td>4611686018489416381</td>\n      <td>4611686018474363479</td>\n      <td>1</td>\n    </tr>\n    <tr>\n      <th>68</th>\n      <td>4611686018489416381</td>\n      <td>4611686018474925281</td>\n      <td>1</td>\n    </tr>\n    <tr>\n      <th>69</th>\n      <td>4611686018489416381</td>\n      <td>4611686018475123059</td>\n      <td>1</td>\n    </tr>\n    <tr>\n      <th>70</th>\n      <td>4611686018489416381</td>\n      <td>4611686018475212786</td>\n      <td>1</td>\n    </tr>\n  </tbody>\n</table>\n<p>35253 rows × 3 columns</p>\n</div>",
      "text/plain": "                    from                   to weight\n84   4611686018468695677  4611686018467331495     60\n118  4611686018468695677  4611686018467538785     35\n119  4611686018468695677  4611686018467544385     30\n146  4611686018468695677  4611686018467727325     30\n35   4611686018468695677  4611686018451177627     27\n..                   ...                  ...    ...\n65   4611686018489416381  4611686018471940439      1\n67   4611686018489416381  4611686018474363479      1\n68   4611686018489416381  4611686018474925281      1\n69   4611686018489416381  4611686018475123059      1\n70   4611686018489416381  4611686018475212786      1\n\n[35253 rows x 3 columns]"
     },
     "execution_count": 6,
     "metadata": {},
     "output_type": "execute_result"
    }
   ],
   "source": [
    "edges"
   ]
  },
  {
   "cell_type": "code",
   "execution_count": 20,
   "metadata": {},
   "outputs": [],
   "source": [
    "names = pd.DataFrame(edges['from'].append(edges['to'])).drop_duplicates()\n",
    "names.columns = ['name']\n",
    "names['label'] = ['hi']*len(names)"
   ]
  },
  {
   "cell_type": "code",
   "execution_count": 21,
   "metadata": {},
   "outputs": [
    {
     "data": {
      "text/html": "<div>\n<style scoped>\n    .dataframe tbody tr th:only-of-type {\n        vertical-align: middle;\n    }\n\n    .dataframe tbody tr th {\n        vertical-align: top;\n    }\n\n    .dataframe thead th {\n        text-align: right;\n    }\n</style>\n<table border=\"1\" class=\"dataframe\">\n  <thead>\n    <tr style=\"text-align: right;\">\n      <th></th>\n      <th>name</th>\n      <th>label</th>\n    </tr>\n  </thead>\n  <tbody>\n    <tr>\n      <th>84</th>\n      <td>4611686018468695677</td>\n      <td>hi</td>\n    </tr>\n    <tr>\n      <th>124</th>\n      <td>4611686018484825875</td>\n      <td>hi</td>\n    </tr>\n    <tr>\n      <th>94</th>\n      <td>4611686018483329418</td>\n      <td>hi</td>\n    </tr>\n    <tr>\n      <th>1</th>\n      <td>4611686018467331495</td>\n      <td>hi</td>\n    </tr>\n    <tr>\n      <th>84</th>\n      <td>4611686018468695677</td>\n      <td>hi</td>\n    </tr>\n    <tr>\n      <th>...</th>\n      <td>...</td>\n      <td>...</td>\n    </tr>\n    <tr>\n      <th>62</th>\n      <td>4611686018471449529</td>\n      <td>hi</td>\n    </tr>\n    <tr>\n      <th>63</th>\n      <td>4611686018471846172</td>\n      <td>hi</td>\n    </tr>\n    <tr>\n      <th>64</th>\n      <td>4611686018471892369</td>\n      <td>hi</td>\n    </tr>\n    <tr>\n      <th>65</th>\n      <td>4611686018471940439</td>\n      <td>hi</td>\n    </tr>\n    <tr>\n      <th>70</th>\n      <td>4611686018475212786</td>\n      <td>hi</td>\n    </tr>\n  </tbody>\n</table>\n<p>23146 rows × 2 columns</p>\n</div>",
      "text/plain": "                    name label\n84   4611686018468695677    hi\n124  4611686018484825875    hi\n94   4611686018483329418    hi\n1    4611686018467331495    hi\n84   4611686018468695677    hi\n..                   ...   ...\n62   4611686018471449529    hi\n63   4611686018471846172    hi\n64   4611686018471892369    hi\n65   4611686018471940439    hi\n70   4611686018475212786    hi\n\n[23146 rows x 2 columns]"
     },
     "execution_count": 21,
     "metadata": {},
     "output_type": "execute_result"
    }
   ],
   "source": [
    "names"
   ]
  },
  {
   "cell_type": "code",
   "execution_count": 8,
   "metadata": {},
   "outputs": [],
   "source": [
    "edges.to_csv('graph.csv')"
   ]
  },
  {
   "cell_type": "code",
   "execution_count": 29,
   "metadata": {},
   "outputs": [
    {
     "data": {
      "text/html": "<div>\n<style scoped>\n    .dataframe tbody tr th:only-of-type {\n        vertical-align: middle;\n    }\n\n    .dataframe tbody tr th {\n        vertical-align: top;\n    }\n\n    .dataframe thead th {\n        text-align: right;\n    }\n</style>\n<table border=\"1\" class=\"dataframe\">\n  <thead>\n    <tr style=\"text-align: right;\">\n      <th></th>\n      <th>label</th>\n    </tr>\n    <tr>\n      <th>name</th>\n      <th></th>\n    </tr>\n  </thead>\n  <tbody>\n    <tr>\n      <th>4611686018468695677</th>\n      <td>1</td>\n    </tr>\n    <tr>\n      <th>4611686018470860130</th>\n      <td>1</td>\n    </tr>\n    <tr>\n      <th>4611686018470859709</th>\n      <td>1</td>\n    </tr>\n    <tr>\n      <th>4611686018470859383</th>\n      <td>1</td>\n    </tr>\n    <tr>\n      <th>4611686018470859288</th>\n      <td>1</td>\n    </tr>\n    <tr>\n      <th>...</th>\n      <td>...</td>\n    </tr>\n    <tr>\n      <th>4611686018467400638</th>\n      <td>1</td>\n    </tr>\n    <tr>\n      <th>4611686018467400635</th>\n      <td>1</td>\n    </tr>\n    <tr>\n      <th>4611686018467400574</th>\n      <td>1</td>\n    </tr>\n    <tr>\n      <th>4611686018467400544</th>\n      <td>1</td>\n    </tr>\n    <tr>\n      <th>4611686018496588628</th>\n      <td>1</td>\n    </tr>\n  </tbody>\n</table>\n<p>23146 rows × 1 columns</p>\n</div>",
      "text/plain": "                     label\nname                      \n4611686018468695677      1\n4611686018470860130      1\n4611686018470859709      1\n4611686018470859383      1\n4611686018470859288      1\n...                    ...\n4611686018467400638      1\n4611686018467400635      1\n4611686018467400574      1\n4611686018467400544      1\n4611686018496588628      1\n\n[23146 rows x 1 columns]"
     },
     "execution_count": 29,
     "metadata": {},
     "output_type": "execute_result"
    }
   ],
   "source": [
    "names.groupby(names['name']).count().sort_values('label', ascending=False)"
   ]
  },
  {
   "cell_type": "code",
   "execution_count": 28,
   "metadata": {},
   "outputs": [],
   "source": [
    "names.to_csv('vertices.csv')"
   ]
  },
  {
   "cell_type": "code",
   "execution_count": null,
   "metadata": {},
   "outputs": [],
   "source": []
  }
 ]
}