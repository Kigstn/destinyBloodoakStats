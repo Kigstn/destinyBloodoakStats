{
 "nbformat": 4,
 "nbformat_minor": 2,
 "metadata": {
  "language_info": {
   "name": "python",
   "codemirror_mode": {
    "name": "ipython",
    "version": 3
   },
   "version": "3.7.4-final"
  },
  "orig_nbformat": 2,
  "file_extension": ".py",
  "mimetype": "text/x-python",
  "name": "python",
  "npconvert_exporter": "python",
  "pygments_lexer": "ipython3",
  "version": 3,
  "kernelspec": {
   "name": "python37464bitdestinybloodoakstatsvirtualenv48164bb18269443b9ec51cfec9c39f92",
   "display_name": "Python 3.7.4 64-bit ('destinyBloodoakStats': virtualenv)"
  }
 },
 "cells": [
  {
   "cell_type": "code",
   "execution_count": 1,
   "metadata": {},
   "outputs": [],
   "source": [
    "import sqlite3\n",
    "import pandas as pd\n",
    "from datetime import datetime\n",
    "from pprint import pprint\n",
    "\n",
    "from functions.dataLoading import getPlayersPastPVE, getPGCR\n",
    "from functions.database import insertActivity, insertInstanceDetails, insertCharacter, updatedPlayer"
   ]
  },
  {
   "cell_type": "code",
   "execution_count": 2,
   "metadata": {},
   "outputs": [],
   "source": [
    "con = sqlite3.connect('userdb.sqlite3')\n",
    "cur = con.cursor()"
   ]
  },
  {
   "cell_type": "code",
   "execution_count": 3,
   "metadata": {},
   "outputs": [
    {
     "data": {
      "text/plain": "57"
     },
     "execution_count": 3,
     "metadata": {},
     "output_type": "execute_result"
    }
   ],
   "source": [
    "playerlist = cur.execute('SELECT destinyID FROM discordGuardiansToken')\n",
    "playerlist = [p[0] for p in playerlist]\n",
    "len(playerlist)"
   ]
  },
  {
   "cell_type": "code",
   "execution_count": 4,
   "metadata": {},
   "outputs": [
    {
     "name": "stdout",
     "output_type": "stream",
     "text": "{'period': '2020-01-27T11:42:14Z', 'activityDetails': {'referenceId': 4166562681, 'directorActivityHash': 4166562681, 'instanceId': '5655310385', 'mode': 6, 'modes': [7, 6], 'isPrivate': False, 'membershipType': 3}, 'values': {'assists': {'statId': 'assists', 'basic': {'value': 2.0, 'displayValue': '2'}}, 'completed': {'statId': 'completed', 'basic': {'value': 0.0, 'displayValue': 'No'}}, 'deaths': {'statId': 'deaths', 'basic': {'value': 0.0, 'displayValue': '0'}}, 'kills': {'statId': 'kills', 'basic': {'value': 42.0, 'displayValue': '42'}}, 'opponentsDefeated': {'statId': 'opponentsDefeated', 'basic': {'value': 44.0, 'displayValue': '44'}}, 'efficiency': {'statId': 'efficiency', 'basic': {'value': 44.0, 'displayValue': '44.00'}}, 'killsDeathsRatio': {'statId': 'killsDeathsRatio', 'basic': {'value': 42.0, 'displayValue': '42.00'}}, 'killsDeathsAssists': {'statId': 'killsDeathsAssists', 'basic': {'value': 43.0, 'displayValue': '43.00'}}, 'score': {'statId': 'score', 'basic': {'value': 0.0, 'displayValue': '0'}}, 'activityDurationSeconds': {'statId': 'activityDurationSeconds', 'basic': {'value': 300.0, 'displayValue': '5m 0s'}}, 'team': {'statId': 'team', 'basic': {'value': 0.0, 'displayValue': ''}}, 'completionReason': {'statId': 'completionReason', 'basic': {'value': 255.0, 'displayValue': 'Unknown'}}, 'fireteamId': {'statId': 'fireteamId', 'basic': {'value': 1.9068970784066273e+18, 'displayValue': '-2147483648'}}, 'startSeconds': {'statId': 'startSeconds', 'basic': {'value': 0.0, 'displayValue': '0m 0s'}}, 'timePlayedSeconds': {'statId': 'timePlayedSeconds', 'basic': {'value': 300.0, 'displayValue': '5m 0s'}}, 'playerCount': {'statId': 'playerCount', 'basic': {'value': 1.0, 'displayValue': '1'}}, 'teamScore': {'statId': 'teamScore', 'basic': {'value': 0.0, 'displayValue': '0'}}}}\n"
    }
   ],
   "source": [
    "for player in playerlist:\n",
    "    pastpve = getPlayersPastPVE(player)\n",
    "    print(pastpve[0])\n",
    "    break"
   ]
  },
  {
   "cell_type": "code",
   "execution_count": 5,
   "metadata": {},
   "outputs": [
    {
     "name": "stdout",
     "output_type": "stream",
     "text": "{'characterId': '2305843009300408732',\n 'extended': {'values': {'precisionKills': {'basic': {'displayValue': '8',\n                                                      'value': 8.0}},\n                         'weaponKillsAbility': {'basic': {'displayValue': '0',\n                                                          'value': 0.0}},\n                         'weaponKillsGrenade': {'basic': {'displayValue': '2',\n                                                          'value': 2.0}},\n                         'weaponKillsMelee': {'basic': {'displayValue': '9',\n                                                        'value': 9.0}},\n                         'weaponKillsSuper': {'basic': {'displayValue': '7',\n                                                        'value': 7.0}}},\n              'weapons': [{'referenceId': 2907129557,\n                           'values': {'uniqueWeaponKills': {'basic': {'displayValue': '24',\n                                                                      'value': 24.0}},\n                                      'uniqueWeaponKillsPrecisionKills': {'basic': {'displayValue': '13%',\n                                                                                    'value': 0.125}},\n                                      'uniqueWeaponPrecisionKills': {'basic': {'displayValue': '3',\n                                                                               'value': 3.0}}}},\n                          {'referenceId': 3690523502,\n                           'values': {'uniqueWeaponKills': {'basic': {'displayValue': '27',\n                                                                      'value': 27.0}},\n                                      'uniqueWeaponKillsPrecisionKills': {'basic': {'displayValue': '0%',\n                                                                                    'value': 0.0}},\n                                      'uniqueWeaponPrecisionKills': {'basic': {'displayValue': '0',\n                                                                               'value': 0.0}}}},\n                          {'referenceId': 3745990145,\n                           'values': {'uniqueWeaponKills': {'basic': {'displayValue': '11',\n                                                                      'value': 11.0}},\n                                      'uniqueWeaponKillsPrecisionKills': {'basic': {'displayValue': '36%',\n                                                                                    'value': 0.36363636363636365}},\n                                      'uniqueWeaponPrecisionKills': {'basic': {'displayValue': '4',\n                                                                               'value': 4.0}}}},\n                          {'referenceId': 4017959782,\n                           'values': {'uniqueWeaponKills': {'basic': {'displayValue': '7',\n                                                                      'value': 7.0}},\n                                      'uniqueWeaponKillsPrecisionKills': {'basic': {'displayValue': '14%',\n                                                                                    'value': 0.14285714285714285}},\n                                      'uniqueWeaponPrecisionKills': {'basic': {'displayValue': '1',\n                                                                               'value': 1.0}}}}]},\n 'player': {'characterClass': 'Titan',\n            'characterLevel': 50,\n            'classHash': 3655393761,\n            'destinyUserInfo': {'applicableMembershipTypes': [3],\n                                'crossSaveOverride': 0,\n                                'displayName': 'Sneaky Horse',\n                                'iconPath': '/common/destiny2_content/icons/0359f2cbe1b78d72deb326965e7ca4bc.jpg',\n                                'isPublic': True,\n                                'membershipId': '4611686018468202281',\n                                'membershipType': 3},\n            'emblemHash': 298334063,\n            'genderHash': 3111576190,\n            'lightLevel': 960,\n            'raceHash': 3887404748},\n 'score': {'basic': {'displayValue': '0', 'value': 0.0}},\n 'standing': 0,\n 'values': {'activityDurationSeconds': {'basic': {'displayValue': '14m 45s',\n                                                  'value': 885.0}},\n            'assists': {'basic': {'displayValue': '38', 'value': 38.0}},\n            'completed': {'basic': {'displayValue': 'Yes', 'value': 1.0}},\n            'completionReason': {'basic': {'displayValue': 'Objective '\n                                                           'Completed',\n                                           'value': 0.0}},\n            'deaths': {'basic': {'displayValue': '2', 'value': 2.0}},\n            'efficiency': {'basic': {'displayValue': '63.50', 'value': 63.5}},\n            'fireteamId': {'basic': {'displayValue': '-2147483648',\n                                     'value': 4.12588993591343e+18}},\n            'kills': {'basic': {'displayValue': '89', 'value': 89.0}},\n            'killsDeathsAssists': {'basic': {'displayValue': '54.00',\n                                             'value': 54.0}},\n            'killsDeathsRatio': {'basic': {'displayValue': '44.50',\n                                           'value': 44.5}},\n            'opponentsDefeated': {'basic': {'displayValue': '127',\n                                            'value': 127.0}},\n            'playerCount': {'basic': {'displayValue': '6', 'value': 6.0}},\n            'score': {'basic': {'displayValue': '0', 'value': 0.0}},\n            'startSeconds': {'basic': {'displayValue': '0m 4s', 'value': 4.0}},\n            'teamScore': {'basic': {'displayValue': '0', 'value': 0.0}},\n            'timePlayedSeconds': {'basic': {'displayValue': '14m 41s',\n                                            'value': 881.0}}}}\n"
    }
   ],
   "source": [
    "for pve in pastpve:\n",
    "    period = datetime.strptime(pve['period'], \"%Y-%m-%dT%H:%M:%SZ\")\n",
    "    activityHash = pve['activityDetails']['directorActivityHash']\n",
    "    instanceID = pve['activityDetails']['instanceId']\n",
    "    timePlayedSeconds = int(pve['values']['timePlayedSeconds']['basic']['value'])\n",
    "    completed = int(pve['values']['completed']['basic']['value'])\n",
    "    if completed and not int(pve['values']['completionReason']['basic']['value']):\n",
    "        pgcrdata = getPGCR(instanceID)['Response']\n",
    "        startingPhaseIndex = pgcrdata['startingPhaseIndex']\n",
    "        deaths = 0\n",
    "        playercount = 0\n",
    "        for player in pgcrdata['entries']:\n",
    "            lightlevel = player['player']['lightLevel']\n",
    "            characterid = player['characterId']\n",
    "            playerdeaths = int(player['values']['deaths']['basic']['displayValue'])\n",
    "            deaths += playerdeaths\n",
    "            displayname = player['player']['destinyUserInfo']['displayName']\n",
    "            completed = int(player['values']['completed']['basic']['value'])\n",
    "            playercount += completed\n",
    "            opponentsDefeated = player['values']['opponentsDefeated']['basic']['value']\n",
    "            system = player['player']['destinyUserInfo']['membershipType']\n",
    "            insertCharacter(destinyID, characterid, system)\n",
    "            insertInstanceDetails(instanceID, playerID, characterID, lightlevel, displayname, deaths, opponentsDefeated, completed)\n",
    "        insertActivity(instanceID, activityHash, timePlayedSeconds, period, startingPhaseIndex, deaths, playercount)"
   ]
  },
  {
   "cell_type": "code",
   "execution_count": null,
   "metadata": {},
   "outputs": [],
   "source": []
  }
 ]
}